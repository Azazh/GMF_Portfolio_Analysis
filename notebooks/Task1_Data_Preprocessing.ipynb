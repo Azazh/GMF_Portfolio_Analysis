{
 "cells": [
  {
   "cell_type": "code",
   "execution_count": null,
   "metadata": {},
   "outputs": [],
   "source": [
    "import sys\n",
    "import os\n",
    "\n",
    "# Add the project root directory to the Python path\n",
    "sys.path.append(os.path.abspath(os.path.join(os.getcwd(), \"..\")))\n",
    "\n",
    "# Verify the Python path\n",
    "print(\"Python Path:\", sys.path)\n",
    "# Import necessary scripts\n",
    "from scripts.data_preprocessing import fetch_and_save_raw_data, clean_and_save_data\n",
    "from scripts.eda_utils import (\n",
    "    visualize_closing_prices,\n",
    "    analyze_daily_returns,\n",
    "    analyze_volatility,\n",
    "    decompose_time_series\n",
    ")\n",
    "import pandas as pd\n",
    "\n",
    "# Step 1: Fetch and save raw data\n",
    "fetch_and_save_raw_data()\n",
    "\n",
    "# Step 2: Clean and save processed data\n",
    "clean_and_save_data()\n",
    "\n",
    "# Step 3: Load processed data\n",
    "data = pd.read_csv(\"../data/processed_data.csv\", parse_dates=True, index_col=\"Date\")\n",
    "\n",
    "# Step 4: Perform EDA\n",
    "visualize_closing_prices(data)\n",
    "analyze_daily_returns(data)\n",
    "analyze_volatility(data)\n",
    "decompose_time_series(data)"
   ]
  }
 ],
 "metadata": {
  "kernelspec": {
   "display_name": "env",
   "language": "python",
   "name": "python3"
  },
  "language_info": {
   "codemirror_mode": {
    "name": "ipython",
    "version": 3
   },
   "file_extension": ".py",
   "mimetype": "text/x-python",
   "name": "python",
   "nbconvert_exporter": "python",
   "pygments_lexer": "ipython3",
   "version": "3.10.12"
  }
 },
 "nbformat": 4,
 "nbformat_minor": 2
}
